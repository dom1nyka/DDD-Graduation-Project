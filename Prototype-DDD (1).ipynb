{
 "cells": [
  {
   "cell_type": "markdown",
   "metadata": {},
   "source": [
    "## Graduation project - Masters Data Driven Design"
   ]
  },
  {
   "cell_type": "markdown",
   "metadata": {},
   "source": [
    "This notebook is part of a graduation project that aims to explore how GSR data can be used to recommend users songs. \n",
    "The code below includes three parts - data cleaning and data preparation, iteration 1 and iteration 2."
   ]
  },
  {
   "cell_type": "code",
   "execution_count": 1115,
   "metadata": {},
   "outputs": [],
   "source": [
    "## imorting libraries\n",
    "import numpy as np\n",
    "import pandas as pd\n",
    "import json\n",
    "import ast\n",
    "import random"
   ]
  },
  {
   "cell_type": "markdown",
   "metadata": {},
   "source": [
    "# Data cleaning and preparation"
   ]
  },
  {
   "cell_type": "markdown",
   "metadata": {},
   "source": [
    "Importing the playlist data downloaded from spotistats.js:"
   ]
  },
  {
   "cell_type": "code",
   "execution_count": 1116,
   "metadata": {
    "scrolled": false
   },
   "outputs": [
    {
     "data": {
      "text/html": [
       "<div>\n",
       "<style scoped>\n",
       "    .dataframe tbody tr th:only-of-type {\n",
       "        vertical-align: middle;\n",
       "    }\n",
       "\n",
       "    .dataframe tbody tr th {\n",
       "        vertical-align: top;\n",
       "    }\n",
       "\n",
       "    .dataframe thead th {\n",
       "        text-align: right;\n",
       "    }\n",
       "</style>\n",
       "<table border=\"1\" class=\"dataframe\">\n",
       "  <thead>\n",
       "    <tr style=\"text-align: right;\">\n",
       "      <th></th>\n",
       "      <th>Spotify ID</th>\n",
       "      <th>Artist IDs</th>\n",
       "      <th>Track Name</th>\n",
       "      <th>Album Name</th>\n",
       "      <th>Artist Name(s)</th>\n",
       "      <th>Release Date</th>\n",
       "      <th>Duration (ms)</th>\n",
       "      <th>Popularity</th>\n",
       "      <th>Added By</th>\n",
       "      <th>Added At</th>\n",
       "      <th>...</th>\n",
       "      <th>Key</th>\n",
       "      <th>Loudness</th>\n",
       "      <th>Mode</th>\n",
       "      <th>Speechiness</th>\n",
       "      <th>Acousticness</th>\n",
       "      <th>Instrumentalness</th>\n",
       "      <th>Liveness</th>\n",
       "      <th>Valence</th>\n",
       "      <th>Tempo</th>\n",
       "      <th>Time Signature</th>\n",
       "    </tr>\n",
       "  </thead>\n",
       "  <tbody>\n",
       "    <tr>\n",
       "      <th>0</th>\n",
       "      <td>1cmigB9I6IRpFqjIbzvSQB</td>\n",
       "      <td>1Uff91EOsvd99rtAupatMP,0d6alfZHUx3xoRnPjkTL7Q</td>\n",
       "      <td>Suite bergamasque, L. 75: III. Clair de lune</td>\n",
       "      <td>Debussy: Suite bergamasque, L. 75, 3. Clair de...</td>\n",
       "      <td>Claude Debussy,Alice Sara Ott</td>\n",
       "      <td>2018-07-27</td>\n",
       "      <td>294960</td>\n",
       "      <td>64</td>\n",
       "      <td>11136072044</td>\n",
       "      <td>2022-05-31T12:01:44Z</td>\n",
       "      <td>...</td>\n",
       "      <td>1</td>\n",
       "      <td>-33.366</td>\n",
       "      <td>1</td>\n",
       "      <td>0.0451</td>\n",
       "      <td>0.993</td>\n",
       "      <td>0.919</td>\n",
       "      <td>0.0618</td>\n",
       "      <td>0.0383</td>\n",
       "      <td>132.085</td>\n",
       "      <td>3</td>\n",
       "    </tr>\n",
       "    <tr>\n",
       "      <th>1</th>\n",
       "      <td>0jOnZhF75V68VsBObWx2XO</td>\n",
       "      <td>436sYg6CZhNefQJogaXeK0,5Dl3HXZjG6ZOWT5cV375lk,...</td>\n",
       "      <td>The Carnival of the Animals, R. 125: XIII. The...</td>\n",
       "      <td>Songs from the Arc of Life</td>\n",
       "      <td>Camille Saint-Saëns,Yo-Yo Ma,Kathryn Stott</td>\n",
       "      <td>2015-09-18</td>\n",
       "      <td>174266</td>\n",
       "      <td>66</td>\n",
       "      <td>11136072044</td>\n",
       "      <td>2022-05-31T12:01:44Z</td>\n",
       "      <td>...</td>\n",
       "      <td>9</td>\n",
       "      <td>-31.034</td>\n",
       "      <td>0</td>\n",
       "      <td>0.0442</td>\n",
       "      <td>0.986</td>\n",
       "      <td>0.860</td>\n",
       "      <td>0.0805</td>\n",
       "      <td>0.0573</td>\n",
       "      <td>128.143</td>\n",
       "      <td>3</td>\n",
       "    </tr>\n",
       "    <tr>\n",
       "      <th>2</th>\n",
       "      <td>7hyq9VKysg8g1L5R0y41dt</td>\n",
       "      <td>459INk8vcC0ebEef82WjIK,57ziOSBD3x0PhVbl7MXTgI,...</td>\n",
       "      <td>Satie / Orch. Ducros: Gymnopédie No. 1</td>\n",
       "      <td>Emotions - Satie: Gymnopédie No. 1 (Orch. Ducros)</td>\n",
       "      <td>Erik Satie,Gautier Capuçon,Jerome Ducros,Adrie...</td>\n",
       "      <td>2020-07-24</td>\n",
       "      <td>172120</td>\n",
       "      <td>6</td>\n",
       "      <td>11136072044</td>\n",
       "      <td>2022-05-31T12:01:44Z</td>\n",
       "      <td>...</td>\n",
       "      <td>7</td>\n",
       "      <td>-31.858</td>\n",
       "      <td>1</td>\n",
       "      <td>0.0513</td>\n",
       "      <td>0.942</td>\n",
       "      <td>0.940</td>\n",
       "      <td>0.1950</td>\n",
       "      <td>0.0390</td>\n",
       "      <td>166.979</td>\n",
       "      <td>3</td>\n",
       "    </tr>\n",
       "    <tr>\n",
       "      <th>3</th>\n",
       "      <td>2m2GJpBjQNNphaCgBeoj7R</td>\n",
       "      <td>25s9H1JQmTu3iuFzpXWUIg</td>\n",
       "      <td>Fracture</td>\n",
       "      <td>Fracture</td>\n",
       "      <td>Stephan Moccio</td>\n",
       "      <td>2020-04-17</td>\n",
       "      <td>207640</td>\n",
       "      <td>65</td>\n",
       "      <td>11136072044</td>\n",
       "      <td>2022-05-31T12:01:44Z</td>\n",
       "      <td>...</td>\n",
       "      <td>2</td>\n",
       "      <td>-28.248</td>\n",
       "      <td>1</td>\n",
       "      <td>0.0476</td>\n",
       "      <td>0.990</td>\n",
       "      <td>0.934</td>\n",
       "      <td>0.1050</td>\n",
       "      <td>0.1260</td>\n",
       "      <td>85.297</td>\n",
       "      <td>4</td>\n",
       "    </tr>\n",
       "    <tr>\n",
       "      <th>4</th>\n",
       "      <td>2Imxyb3LiuXsDFo7Gq5YDs</td>\n",
       "      <td>2UqjDAXnDxejEyE0CzfUrZ,7jQSqBxct7Aa8b3GsZFkO4</td>\n",
       "      <td>Kinderszenen, Op. 15: Träumerei (Arr. Lewin fo...</td>\n",
       "      <td>Schumann: Kinderszenen, Op. 15: Träumerei (Arr...</td>\n",
       "      <td>Robert Schumann,Miloš Karadaglić</td>\n",
       "      <td>2021-04-23</td>\n",
       "      <td>215800</td>\n",
       "      <td>61</td>\n",
       "      <td>11136072044</td>\n",
       "      <td>2022-05-31T12:01:44Z</td>\n",
       "      <td>...</td>\n",
       "      <td>2</td>\n",
       "      <td>-31.822</td>\n",
       "      <td>1</td>\n",
       "      <td>0.0870</td>\n",
       "      <td>0.984</td>\n",
       "      <td>0.906</td>\n",
       "      <td>0.0953</td>\n",
       "      <td>0.3030</td>\n",
       "      <td>80.507</td>\n",
       "      <td>4</td>\n",
       "    </tr>\n",
       "    <tr>\n",
       "      <th>...</th>\n",
       "      <td>...</td>\n",
       "      <td>...</td>\n",
       "      <td>...</td>\n",
       "      <td>...</td>\n",
       "      <td>...</td>\n",
       "      <td>...</td>\n",
       "      <td>...</td>\n",
       "      <td>...</td>\n",
       "      <td>...</td>\n",
       "      <td>...</td>\n",
       "      <td>...</td>\n",
       "      <td>...</td>\n",
       "      <td>...</td>\n",
       "      <td>...</td>\n",
       "      <td>...</td>\n",
       "      <td>...</td>\n",
       "      <td>...</td>\n",
       "      <td>...</td>\n",
       "      <td>...</td>\n",
       "      <td>...</td>\n",
       "      <td>...</td>\n",
       "    </tr>\n",
       "    <tr>\n",
       "      <th>195</th>\n",
       "      <td>5cbkiCRy1LVLiAl1q64n2S</td>\n",
       "      <td>4lOnTI7pZfZeLAQ4z2idCd</td>\n",
       "      <td>Wanderstar</td>\n",
       "      <td>Aphelion</td>\n",
       "      <td>Amel Scott</td>\n",
       "      <td>2021-09-08</td>\n",
       "      <td>160511</td>\n",
       "      <td>66</td>\n",
       "      <td>11136072044</td>\n",
       "      <td>2022-05-31T12:23:18Z</td>\n",
       "      <td>...</td>\n",
       "      <td>10</td>\n",
       "      <td>-30.262</td>\n",
       "      <td>1</td>\n",
       "      <td>0.0417</td>\n",
       "      <td>0.988</td>\n",
       "      <td>0.843</td>\n",
       "      <td>0.1080</td>\n",
       "      <td>0.0415</td>\n",
       "      <td>71.130</td>\n",
       "      <td>4</td>\n",
       "    </tr>\n",
       "    <tr>\n",
       "      <th>196</th>\n",
       "      <td>5YZGwFeQxvTrgUFa4Fmtth</td>\n",
       "      <td>40EzXxZKfeMHctd8T22mlh</td>\n",
       "      <td>Illustratosphere</td>\n",
       "      <td>Illustratosphere</td>\n",
       "      <td>Anna Nueva</td>\n",
       "      <td>2022-01-12</td>\n",
       "      <td>210166</td>\n",
       "      <td>60</td>\n",
       "      <td>11136072044</td>\n",
       "      <td>2022-05-31T12:23:18Z</td>\n",
       "      <td>...</td>\n",
       "      <td>4</td>\n",
       "      <td>-30.510</td>\n",
       "      <td>1</td>\n",
       "      <td>0.0459</td>\n",
       "      <td>0.918</td>\n",
       "      <td>0.874</td>\n",
       "      <td>0.1040</td>\n",
       "      <td>0.0381</td>\n",
       "      <td>68.060</td>\n",
       "      <td>3</td>\n",
       "    </tr>\n",
       "    <tr>\n",
       "      <th>197</th>\n",
       "      <td>13CYT9XLC54qtyg0U8aqb7</td>\n",
       "      <td>6ptntg50Xz0ACYkxCIOHz0</td>\n",
       "      <td>Hush</td>\n",
       "      <td>Hush</td>\n",
       "      <td>Yonatan Awate</td>\n",
       "      <td>2021-10-22</td>\n",
       "      <td>190000</td>\n",
       "      <td>66</td>\n",
       "      <td>11136072044</td>\n",
       "      <td>2022-05-31T12:23:18Z</td>\n",
       "      <td>...</td>\n",
       "      <td>0</td>\n",
       "      <td>-32.990</td>\n",
       "      <td>1</td>\n",
       "      <td>0.0438</td>\n",
       "      <td>0.970</td>\n",
       "      <td>0.931</td>\n",
       "      <td>0.1060</td>\n",
       "      <td>0.0689</td>\n",
       "      <td>73.055</td>\n",
       "      <td>3</td>\n",
       "    </tr>\n",
       "    <tr>\n",
       "      <th>198</th>\n",
       "      <td>0QCWhIYVGx3ousdsUZgy84</td>\n",
       "      <td>639xerhpqwPMYay6bkjz75</td>\n",
       "      <td>Going Back</td>\n",
       "      <td>Going Back</td>\n",
       "      <td>Koby Laver</td>\n",
       "      <td>2021-10-22</td>\n",
       "      <td>228000</td>\n",
       "      <td>69</td>\n",
       "      <td>11136072044</td>\n",
       "      <td>2022-05-31T12:23:18Z</td>\n",
       "      <td>...</td>\n",
       "      <td>9</td>\n",
       "      <td>-37.097</td>\n",
       "      <td>1</td>\n",
       "      <td>0.0489</td>\n",
       "      <td>0.984</td>\n",
       "      <td>0.847</td>\n",
       "      <td>0.1010</td>\n",
       "      <td>0.0719</td>\n",
       "      <td>72.496</td>\n",
       "      <td>4</td>\n",
       "    </tr>\n",
       "    <tr>\n",
       "      <th>199</th>\n",
       "      <td>2iXFZRMJCWCkLd8hrm8GmO</td>\n",
       "      <td>1E7RDm6USh7HGKtdVF9TZM</td>\n",
       "      <td>Relaksohuni</td>\n",
       "      <td>Relaksohuni</td>\n",
       "      <td>Qetesia</td>\n",
       "      <td>2021-10-21</td>\n",
       "      <td>182739</td>\n",
       "      <td>64</td>\n",
       "      <td>11136072044</td>\n",
       "      <td>2022-05-31T12:23:18Z</td>\n",
       "      <td>...</td>\n",
       "      <td>3</td>\n",
       "      <td>-37.383</td>\n",
       "      <td>1</td>\n",
       "      <td>0.0351</td>\n",
       "      <td>0.994</td>\n",
       "      <td>0.833</td>\n",
       "      <td>0.1030</td>\n",
       "      <td>0.0704</td>\n",
       "      <td>69.092</td>\n",
       "      <td>4</td>\n",
       "    </tr>\n",
       "  </tbody>\n",
       "</table>\n",
       "<p>200 rows × 23 columns</p>\n",
       "</div>"
      ],
      "text/plain": [
       "                 Spotify ID  \\\n",
       "0    1cmigB9I6IRpFqjIbzvSQB   \n",
       "1    0jOnZhF75V68VsBObWx2XO   \n",
       "2    7hyq9VKysg8g1L5R0y41dt   \n",
       "3    2m2GJpBjQNNphaCgBeoj7R   \n",
       "4    2Imxyb3LiuXsDFo7Gq5YDs   \n",
       "..                      ...   \n",
       "195  5cbkiCRy1LVLiAl1q64n2S   \n",
       "196  5YZGwFeQxvTrgUFa4Fmtth   \n",
       "197  13CYT9XLC54qtyg0U8aqb7   \n",
       "198  0QCWhIYVGx3ousdsUZgy84   \n",
       "199  2iXFZRMJCWCkLd8hrm8GmO   \n",
       "\n",
       "                                            Artist IDs  \\\n",
       "0        1Uff91EOsvd99rtAupatMP,0d6alfZHUx3xoRnPjkTL7Q   \n",
       "1    436sYg6CZhNefQJogaXeK0,5Dl3HXZjG6ZOWT5cV375lk,...   \n",
       "2    459INk8vcC0ebEef82WjIK,57ziOSBD3x0PhVbl7MXTgI,...   \n",
       "3                               25s9H1JQmTu3iuFzpXWUIg   \n",
       "4        2UqjDAXnDxejEyE0CzfUrZ,7jQSqBxct7Aa8b3GsZFkO4   \n",
       "..                                                 ...   \n",
       "195                             4lOnTI7pZfZeLAQ4z2idCd   \n",
       "196                             40EzXxZKfeMHctd8T22mlh   \n",
       "197                             6ptntg50Xz0ACYkxCIOHz0   \n",
       "198                             639xerhpqwPMYay6bkjz75   \n",
       "199                             1E7RDm6USh7HGKtdVF9TZM   \n",
       "\n",
       "                                            Track Name  \\\n",
       "0         Suite bergamasque, L. 75: III. Clair de lune   \n",
       "1    The Carnival of the Animals, R. 125: XIII. The...   \n",
       "2               Satie / Orch. Ducros: Gymnopédie No. 1   \n",
       "3                                             Fracture   \n",
       "4    Kinderszenen, Op. 15: Träumerei (Arr. Lewin fo...   \n",
       "..                                                 ...   \n",
       "195                                         Wanderstar   \n",
       "196                                   Illustratosphere   \n",
       "197                                               Hush   \n",
       "198                                         Going Back   \n",
       "199                                        Relaksohuni   \n",
       "\n",
       "                                            Album Name  \\\n",
       "0    Debussy: Suite bergamasque, L. 75, 3. Clair de...   \n",
       "1                           Songs from the Arc of Life   \n",
       "2    Emotions - Satie: Gymnopédie No. 1 (Orch. Ducros)   \n",
       "3                                             Fracture   \n",
       "4    Schumann: Kinderszenen, Op. 15: Träumerei (Arr...   \n",
       "..                                                 ...   \n",
       "195                                           Aphelion   \n",
       "196                                   Illustratosphere   \n",
       "197                                               Hush   \n",
       "198                                         Going Back   \n",
       "199                                        Relaksohuni   \n",
       "\n",
       "                                        Artist Name(s) Release Date  \\\n",
       "0                        Claude Debussy,Alice Sara Ott   2018-07-27   \n",
       "1           Camille Saint-Saëns,Yo-Yo Ma,Kathryn Stott   2015-09-18   \n",
       "2    Erik Satie,Gautier Capuçon,Jerome Ducros,Adrie...   2020-07-24   \n",
       "3                                       Stephan Moccio   2020-04-17   \n",
       "4                     Robert Schumann,Miloš Karadaglić   2021-04-23   \n",
       "..                                                 ...          ...   \n",
       "195                                         Amel Scott   2021-09-08   \n",
       "196                                         Anna Nueva   2022-01-12   \n",
       "197                                      Yonatan Awate   2021-10-22   \n",
       "198                                         Koby Laver   2021-10-22   \n",
       "199                                            Qetesia   2021-10-21   \n",
       "\n",
       "     Duration (ms)  Popularity     Added By              Added At  ... Key  \\\n",
       "0           294960          64  11136072044  2022-05-31T12:01:44Z  ...   1   \n",
       "1           174266          66  11136072044  2022-05-31T12:01:44Z  ...   9   \n",
       "2           172120           6  11136072044  2022-05-31T12:01:44Z  ...   7   \n",
       "3           207640          65  11136072044  2022-05-31T12:01:44Z  ...   2   \n",
       "4           215800          61  11136072044  2022-05-31T12:01:44Z  ...   2   \n",
       "..             ...         ...          ...                   ...  ...  ..   \n",
       "195         160511          66  11136072044  2022-05-31T12:23:18Z  ...  10   \n",
       "196         210166          60  11136072044  2022-05-31T12:23:18Z  ...   4   \n",
       "197         190000          66  11136072044  2022-05-31T12:23:18Z  ...   0   \n",
       "198         228000          69  11136072044  2022-05-31T12:23:18Z  ...   9   \n",
       "199         182739          64  11136072044  2022-05-31T12:23:18Z  ...   3   \n",
       "\n",
       "     Loudness  Mode  Speechiness  Acousticness  Instrumentalness  Liveness  \\\n",
       "0     -33.366     1       0.0451         0.993             0.919    0.0618   \n",
       "1     -31.034     0       0.0442         0.986             0.860    0.0805   \n",
       "2     -31.858     1       0.0513         0.942             0.940    0.1950   \n",
       "3     -28.248     1       0.0476         0.990             0.934    0.1050   \n",
       "4     -31.822     1       0.0870         0.984             0.906    0.0953   \n",
       "..        ...   ...          ...           ...               ...       ...   \n",
       "195   -30.262     1       0.0417         0.988             0.843    0.1080   \n",
       "196   -30.510     1       0.0459         0.918             0.874    0.1040   \n",
       "197   -32.990     1       0.0438         0.970             0.931    0.1060   \n",
       "198   -37.097     1       0.0489         0.984             0.847    0.1010   \n",
       "199   -37.383     1       0.0351         0.994             0.833    0.1030   \n",
       "\n",
       "     Valence    Tempo  Time Signature  \n",
       "0     0.0383  132.085               3  \n",
       "1     0.0573  128.143               3  \n",
       "2     0.0390  166.979               3  \n",
       "3     0.1260   85.297               4  \n",
       "4     0.3030   80.507               4  \n",
       "..       ...      ...             ...  \n",
       "195   0.0415   71.130               4  \n",
       "196   0.0381   68.060               3  \n",
       "197   0.0689   73.055               3  \n",
       "198   0.0719   72.496               4  \n",
       "199   0.0704   69.092               4  \n",
       "\n",
       "[200 rows x 23 columns]"
      ]
     },
     "execution_count": 1116,
     "metadata": {},
     "output_type": "execute_result"
    }
   ],
   "source": [
    "playlist_df = pd.read_csv('playlist_data.csv')\n",
    "playlist_df = pd.DataFrame(playlist_df)\n",
    "playlist_df"
   ]
  },
  {
   "cell_type": "code",
   "execution_count": 1117,
   "metadata": {
    "scrolled": false
   },
   "outputs": [],
   "source": [
    "#selecting only the data I will need\n",
    "playlist_df = playlist_df[['Spotify ID','Track Name', 'Genres', 'Energy', 'Key', 'Loudness', 'Mode', 'Speechiness', 'Acousticness', 'Instrumentalness', 'Liveness',\n",
    "                'Valence', 'Tempo', 'Time Signature']]\n",
    "\n",
    "# adding some extra information, these categories were assigned by me manually \n",
    "categories = ['Classical', 'Classical', 'Classical', 'Classical', 'Classical', 'Classical', 'Classical', 'Classical', 'Classical', 'Classical', 'Piano', 'Piano','Piano','Piano','Piano','Piano','Piano','Piano','Piano','Piano','Nature','Nature','Nature','Nature','Nature','Nature','Nature','Nature','Nature','Nature', 'Tibetan','Tibetan','Tibetan','Tibetan','Tibetan','Tibetan','Violin','Violin','Violin','Violin','Violin','Violin','Violin','Violin','Violin','Violin','Electronic','Electronic','Electronic','Electronic','Electronic','Electronic','Electronic','Electronic','Electronic','Electronic','Electronic','Electronic','Electronic',\"Spiritual\",\"Spiritual\",\"Spiritual\",\"Spiritual\",\"Spiritual\",\"Spiritual\",\"Spiritual\",\"Spiritual\",\"Spiritual\",\"Spiritual\",\"Mantras\",\"Mantras\",\"Mantras\",\"Mantras\",\"Mantras\",\"Mantras\",\"Mantras\",\"Mantras\",\"Mantras\",\"Mantras\",\"Lofi\",\"Lofi\",\"Lofi\",\"Lofi\",\"Lofi\",\"Lofi\",\"Lofi\",\"Lofi\",\"Lofi\",\"Lofi\",\"Lofi\",\"Lofi\",\"Lofi\",\"Lofi\",\"Lofi\",\"Lofi\",\"Lofi\",\"Lofi\",\"Lofi\",\"Lofi\",\"Oriental\",\"Oriental\",\"Oriental\",\"Oriental\",\"Oriental\",\"Oriental\",\"Oriental\",\"Oriental\",\"Oriental\",\"Oriental\",\"Oriental\",\"Oriental\",\"Oriental\",\"Oriental\",\"Oriental\",\"Oriental\",\"Oriental\",\"Oriental\",\"Oriental\",\"Oriental\",\"Jazz\",\"Jazz\",\"Jazz\",\"Jazz\",\"Jazz\",\"Jazz\",\"Jazz\",\"Jazz\",\"Jazz\",\"Jazz\",\"Guitar\",\"Guitar\",\"Guitar\",\"Guitar\",\"Guitar\",\"Guitar\",\"Guitar\",\"Guitar\",\"Guitar\",\"Guitar\",\"Guitar\",\"Guitar\",\"Guitar\",\"Guitar\",\"Guitar\",\"Guitar\",\"Guitar\",\"Guitar\",\"Guitar\",\"Guitar\",\"Guitar\", \"Peacful rhythms\", \"Peacful rhythms\", \"Peacful rhythms\", \"Peacful rhythms\", \"Peacful rhythms\", \"Peacful rhythms\", \"Peacful rhythms\", \"Peacful rhythms\", \"Peacful rhythms\", \"Peacful rhythms\", \"Peacful rhythms\", \"Peacful rhythms\", \"Peacful rhythms\", \"Peacful rhythms\", \"Peacful rhythms\", \"Peacful rhythms\", \"Peacful rhythms\", \"Peacful rhythms\", \"Peacful rhythms\", \"Peacful rhythms\", \"Kora\", \"Kora\", \"Kora\", \"Kora\", \"Kora\", \"Kora\", \"Kora\", \"Kora\", \"Kora\", \"Kora\", \"Electric guitar\",\"Electric guitar\",\"Electric guitar\",\"Electric guitar\",\"Electric guitar\",\"Electric guitar\",\"Electric guitar\",\"Electric guitar\",\"Electric guitar\",\"Meditation\",\"Meditation\",\"Meditation\",\"Meditation\",\"Meditation\",\"Meditation\",\"Meditation\",\"Meditation\",\"Meditation\",\"Meditation\",\"Meditation\"]\n"
   ]
  },
  {
   "cell_type": "code",
   "execution_count": 1118,
   "metadata": {
    "scrolled": true
   },
   "outputs": [
    {
     "name": "stderr",
     "output_type": "stream",
     "text": [
      "/var/folders/42/n9kf506x1lvcvy8k8x246m8m0000gn/T/ipykernel_66773/4261833357.py:2: SettingWithCopyWarning: \n",
      "A value is trying to be set on a copy of a slice from a DataFrame.\n",
      "Try using .loc[row_indexer,col_indexer] = value instead\n",
      "\n",
      "See the caveats in the documentation: https://pandas.pydata.org/pandas-docs/stable/user_guide/indexing.html#returning-a-view-versus-a-copy\n",
      "  playlist_df['Genres'] = playlist_df['Genres'].astype(str)\n",
      "/var/folders/42/n9kf506x1lvcvy8k8x246m8m0000gn/T/ipykernel_66773/4261833357.py:3: SettingWithCopyWarning: \n",
      "A value is trying to be set on a copy of a slice from a DataFrame.\n",
      "Try using .loc[row_indexer,col_indexer] = value instead\n",
      "\n",
      "See the caveats in the documentation: https://pandas.pydata.org/pandas-docs/stable/user_guide/indexing.html#returning-a-view-versus-a-copy\n",
      "  playlist_df['Genres'] = playlist_df['Genres'].apply(lambda x: x.split(\",\"))\n"
     ]
    },
    {
     "data": {
      "text/plain": [
       "0          [classical, impressionism, post-romantic era]\n",
       "1      [classical, french romanticism, late romantic ...\n",
       "2      [classical, early avant garde, early modern cl...\n",
       "3                      [background piano, neo-classical]\n",
       "4      [classical, early romantic era, german romanti...\n",
       "                             ...                        \n",
       "195                                                [nan]\n",
       "196                                                [nan]\n",
       "197                                              [sleep]\n",
       "198                                   [background music]\n",
       "199                                                [nan]\n",
       "Name: Genres, Length: 200, dtype: object"
      ]
     },
     "execution_count": 1118,
     "metadata": {},
     "output_type": "execute_result"
    }
   ],
   "source": [
    "#converting genres column into list\n",
    "playlist_df['Genres'] = playlist_df['Genres'].astype(str)\n",
    "playlist_df['Genres'] = playlist_df['Genres'].apply(lambda x: x.split(\",\"))\n",
    "playlist_df['Genres']"
   ]
  },
  {
   "cell_type": "code",
   "execution_count": 1119,
   "metadata": {
    "scrolled": false
   },
   "outputs": [
    {
     "name": "stderr",
     "output_type": "stream",
     "text": [
      "/var/folders/42/n9kf506x1lvcvy8k8x246m8m0000gn/T/ipykernel_66773/1083395153.py:1: SettingWithCopyWarning: \n",
      "A value is trying to be set on a copy of a slice from a DataFrame.\n",
      "Try using .loc[row_indexer,col_indexer] = value instead\n",
      "\n",
      "See the caveats in the documentation: https://pandas.pydata.org/pandas-docs/stable/user_guide/indexing.html#returning-a-view-versus-a-copy\n",
      "  playlist_df['category'] = categories\n"
     ]
    }
   ],
   "source": [
    "playlist_df['category'] = categories"
   ]
  },
  {
   "cell_type": "code",
   "execution_count": 1120,
   "metadata": {},
   "outputs": [],
   "source": [
    "# one hot encoding the categories\n",
    "categories = pd.get_dummies(playlist_df['category'])\n",
    "playlist_df = pd.concat([playlist_df, categories], axis = 1)\n"
   ]
  },
  {
   "cell_type": "code",
   "execution_count": 1121,
   "metadata": {},
   "outputs": [],
   "source": [
    "#renaming spotifyid variable for easier use\n",
    "playlist_df.rename(columns={'Spotify ID': 'spotifyid'}, inplace=True)"
   ]
  },
  {
   "cell_type": "code",
   "execution_count": 1122,
   "metadata": {},
   "outputs": [],
   "source": [
    "#adding empty columns for the data that is going to be collected\n",
    "playlist_df[\"GSR0\"] = np.nan\n",
    "playlist_df[\"GSR1\"] = np.nan\n",
    "playlist_df[\"score\"] = np.nan\n",
    "playlist_df[\"userid\"] = \"\"\n",
    "playlist_df[\"rating\"] = np.nan\n",
    "playlist_df[\"iteration\"] = np.nan\n"
   ]
  },
  {
   "cell_type": "markdown",
   "metadata": {},
   "source": [
    "Each participants gets their own dataframe with the playlist data:"
   ]
  },
  {
   "cell_type": "code",
   "execution_count": 1123,
   "metadata": {},
   "outputs": [],
   "source": [
    "df1 = playlist_df.copy()\n",
    "df1[\"userid\"] = \"1\"\n",
    "df2 = playlist_df.copy()\n",
    "df2[\"userid\"] = \"2\"\n",
    "df3 = playlist_df.copy()\n",
    "df3[\"userid\"] = \"3\""
   ]
  },
  {
   "cell_type": "markdown",
   "metadata": {},
   "source": [
    "The following functions were created to make the data import more efficient. "
   ]
  },
  {
   "cell_type": "code",
   "execution_count": 1124,
   "metadata": {},
   "outputs": [],
   "source": [
    "# this function displays only the songs that had GSR data added\n",
    "def show_data_1(df):\n",
    "    newdf = df[df['score'].notna()]  \n",
    "    newdf = newdf[['Track Name', 'score']]\n",
    "    print(newdf)"
   ]
  },
  {
   "cell_type": "markdown",
   "metadata": {},
   "source": [
    "The following function pulls data from JSON files that were created using Arduino GSR sensor and \"arduino.py\" script and adds GSR data to each participant's dataframes. Only the first and last GSR readings are added and the difference ('score') is calculated to determine how effective the song was in reducing stress.\n"
   ]
  },
  {
   "cell_type": "code",
   "execution_count": 1125,
   "metadata": {},
   "outputs": [],
   "source": [
    "def add_gsr(participant_n, df, spotifyid):\n",
    "    with open('Participant' + str(participant_n) + \"/Initial/\"+ spotifyid + '.json') as f:\n",
    "        data = json.load(f)\n",
    "        data = ast.literal_eval(data)\n",
    "        df.loc[df.spotifyid == spotifyid, 'GSR0'] = float(data[0])\n",
    "        df.loc[df.spotifyid == spotifyid, 'GSR1'] = data[-1]\n",
    "        df.loc[df.spotifyid == spotifyid, 'score'] = df[\"GSR0\"] - df[\"GSR1\"]\n",
    "        df.loc[df.spotifyid == spotifyid, 'iteration'] = 0\n",
    "        return df"
   ]
  },
  {
   "cell_type": "markdown",
   "metadata": {},
   "source": [
    "These are the lists containing spotifyids of songs that were played to the three participants in the initial GSR data collection."
   ]
  },
  {
   "cell_type": "code",
   "execution_count": 1126,
   "metadata": {},
   "outputs": [],
   "source": [
    "par1_data = [\"0CMYUXTTTmI6Lwc0opH2XG\", \"4KVllqEjZHDlfoH0m5Rzkm\", \"5spA168Sm4p8Xo4Vzo6cgV\", \"5YZGwFeQxvTrgUFa4Fmtth\", \"7jV5joTiVgpVqPpAlyyvHI\"]\n",
    "par2_data = ['0GZRJWAb08RLUPHyP6uWcY', '2xG6eMBqaFVHkB0TtS4S4P', '32tT51UcINiBPpJ7qqR20p', \"7spTNUW2VouHtkboiO30sF\", \"5e9j1O0uzn49EYU5JswarF\"]\n",
    "par3_data = [\"2xG6eMBqaFVHkB0TtS4S4P\", \"3RH9QlGintwquOHu54I3ch\", \"29EphovzWC9fG1yzfqCZLp\", \"1OraD6cUqvKrh8A5skqtBh\", \"1rV4lmkwXPVJl5styxffBR\"]\n",
    "all_data = [par1_data, par2_data, par3_data]"
   ]
  },
  {
   "cell_type": "markdown",
   "metadata": {},
   "source": [
    "The following function pulls all the GSR data stored in each participan's folders and adds it to the dataframes."
   ]
  },
  {
   "cell_type": "code",
   "execution_count": 1127,
   "metadata": {},
   "outputs": [],
   "source": [
    "def add_data1():\n",
    "    for data in all_data:\n",
    "        if data == par1_data:\n",
    "            for item in range(len(data)):\n",
    "                spotifyid = data[item]\n",
    "                add_gsr(1, df1, spotifyid)\n",
    "                count1 = len(data)\n",
    "        elif data == par2_data:\n",
    "            for item in range(len(data)):\n",
    "                spotifyid = data[item]\n",
    "                add_gsr(2, df2, spotifyid)\n",
    "                count2 = len(data)\n",
    "        elif data == par3_data:\n",
    "            for item in range(len(data)):\n",
    "                spotifyid = data[item]\n",
    "                add_gsr(3, df3, spotifyid)\n",
    "                count3 = len(data)\n",
    "    total = count1 + count2 + count3\n",
    "    print(\"Total songs added: \" + str(total))"
   ]
  },
  {
   "cell_type": "code",
   "execution_count": 1128,
   "metadata": {
    "scrolled": true
   },
   "outputs": [
    {
     "name": "stdout",
     "output_type": "stream",
     "text": [
      "Total songs added: 15\n"
     ]
    }
   ],
   "source": [
    "add_data1()"
   ]
  },
  {
   "cell_type": "markdown",
   "metadata": {},
   "source": [
    "## Iteration 1\n"
   ]
  },
  {
   "cell_type": "markdown",
   "metadata": {},
   "source": [
    "# Generating recommendations based on GSR data"
   ]
  },
  {
   "cell_type": "markdown",
   "metadata": {},
   "source": [
    "Since cosine similarity function will be used to generate recommendations, all the variables need to be scaled from 0 to 1. This is done using MinMaxScaler() function from scikitlearn. First, all the float variables are put in one list so they can be acessed easily."
   ]
  },
  {
   "cell_type": "code",
   "execution_count": 1129,
   "metadata": {},
   "outputs": [],
   "source": [
    "float_cols = ['Energy', 'Key', 'Loudness', 'Mode', 'Speechiness', 'Acousticness', 'Instrumentalness', 'Liveness',\n",
    "              'Valence', 'Tempo', 'Time Signature']"
   ]
  },
  {
   "cell_type": "code",
   "execution_count": 1130,
   "metadata": {},
   "outputs": [],
   "source": [
    "#putting categories in a list for easier access\n",
    "category_cols = ['Classical', \"Piano\", \"Nature\", \"Tibetan\", \"Violin\", \"Electronic\", \"Spiritual\", \"Mantras\", \"Lofi\", \"Oriental\", \"Jazz\", \"Guitar\", \"Peacful rhythms\", \"Kora\", \"Electric guitar\", \"Meditation\"]"
   ]
  },
  {
   "cell_type": "code",
   "execution_count": 1131,
   "metadata": {},
   "outputs": [],
   "source": [
    "from sklearn.preprocessing import MinMaxScaler\n",
    "from sklearn.feature_extraction.text import TfidfVectorizer\n",
    "from sklearn.metrics.pairwise import cosine_similarity"
   ]
  },
  {
   "cell_type": "markdown",
   "metadata": {},
   "source": [
    "Then, the following function was created to apply the TF-IDF (Term Frequency Inverse Document Frequency) algorithm to the genres columns. TF-IDF evaluates the words that are used in the genres names and calculates their weight in comparison to all the other words used to describe the genre of that song. \n"
   ]
  },
  {
   "cell_type": "code",
   "execution_count": 1132,
   "metadata": {},
   "outputs": [],
   "source": [
    "def genre_preproces(df):\n",
    "    tfidf = TfidfVectorizer()\n",
    "    tfidf_matrix =  tfidf.fit_transform(df['Genres'].apply(lambda x: \"\".join(x)))\n",
    "    genre_df = pd.DataFrame(tfidf_matrix.toarray())\n",
    "    genre_df.columns = ['genre' + \"|\" + i for i in tfidf.get_feature_names_out()]\n",
    "    genre_df.drop(columns='genre|nan')\n",
    "    genre_df.reset_index(drop = True, inplace=True)\n",
    "    return genre_df"
   ]
  },
  {
   "cell_type": "markdown",
   "metadata": {},
   "source": [
    "Then, the following function was created to scale float columns from 0 to 1."
   ]
  },
  {
   "cell_type": "code",
   "execution_count": 1133,
   "metadata": {},
   "outputs": [],
   "source": [
    "def floats_preprocess(df):\n",
    "    scaler = MinMaxScaler()\n",
    "    floats = df[float_cols].reset_index(drop = True)\n",
    "    floats_scaled = pd.DataFrame(scaler.fit_transform(floats), columns = floats.columns)\n",
    "    return floats_scaled"
   ]
  },
  {
   "cell_type": "markdown",
   "metadata": {},
   "source": [
    "The following function was created to efficiently preprocess all the needed data and generate recommendations using the cosine similarity method. First, it finds the song that the specific user had the most success in reducing the GSR with. Then using the previously created functions, it prepares the data to be suitable for machine learning. And lastly it calculates the cosine similarity between the “best_song” and all the other songs and generates a list of 5 most similar songs."
   ]
  },
  {
   "cell_type": "code",
   "execution_count": 1134,
   "metadata": {},
   "outputs": [],
   "source": [
    "def generate_rec(df):\n",
    "    best_score = df[\"score\"].max()  ## picking the highest score\n",
    "    best_song = df.loc[df.score == best_score, 'spotifyid'].values[0] ## the song id with the best GSR score\n",
    "    \n",
    "    genre_df = genre_preproces(df) \n",
    "    floats_scaled = floats_preprocess(df)\n",
    "\n",
    "    final = pd.concat([genre_df, floats_scaled, df[category_cols]], axis = 1)\n",
    "    final['spotifyid']=df['spotifyid'].values\n",
    "    \n",
    "    scaler = MinMaxScaler()    \n",
    "    normalized_df = scaler.fit_transform(final[float_cols])\n",
    "\n",
    "    # creating a pandas series with song titles as indices and indices as series values \n",
    "    indices = pd.Series(final.index, index=final['spotifyid']).drop_duplicates()\n",
    "    # create a pandas series with song titles as indices and indices as series values \n",
    "    cosine = cosine_similarity(normalized_df)\n",
    "  \n",
    "    def generate_recommendation(spotifyid, model_type=cosine):\n",
    "        index = indices[spotifyid]\n",
    "        score = list(enumerate(model_type[indices[spotifyid]]))\n",
    "        similarity_score = sorted(score, key=lambda x: x[1], reverse=True)\n",
    "        similarity_score = similarity_score[1:6]\n",
    "        top_songs_index = [i[0] for i in similarity_score]\n",
    "        top_songs = df['spotifyid'].iloc[top_songs_index]\n",
    "        return top_songs\n",
    "   \n",
    "    recs = generate_recommendation(best_song, cosine).values\n",
    "    return recs"
   ]
  },
  {
   "cell_type": "markdown",
   "metadata": {},
   "source": [
    "## Generating recommendations for a new user"
   ]
  },
  {
   "cell_type": "markdown",
   "metadata": {},
   "source": [
    "Creating new dataframes for the new participants."
   ]
  },
  {
   "cell_type": "code",
   "execution_count": 1135,
   "metadata": {},
   "outputs": [],
   "source": [
    "df4 = playlist_df.copy()\n",
    "df4[\"userid\"] = \"4\"\n",
    "\n",
    "df5 = playlist_df.copy()\n",
    "df5[\"userid\"] = \"5\""
   ]
  },
  {
   "cell_type": "markdown",
   "metadata": {},
   "source": [
    "Prompting the user to choose 3 categories of music they like to relax to."
   ]
  },
  {
   "cell_type": "code",
   "execution_count": 1136,
   "metadata": {
    "scrolled": true
   },
   "outputs": [
    {
     "name": "stdout",
     "output_type": "stream",
     "text": [
      "What kind of music do you like to relax to? Choose three from the list:\n",
      "_________\n",
      "Classical, Piano, Nature, Tibetan, Violin, Electronic, Spiritual, Mantras, Lofi, Oriental, Jazz, Guitar, Peacful rhythms, Kora, Electric guitar, Meditation\n"
     ]
    }
   ],
   "source": [
    "print(\"What kind of music do you like to relax to? Choose three from the list:\")\n",
    "print(\"_________\")\n",
    "print('Classical,', \"Piano,\", \"Nature,\", \"Tibetan,\", \"Violin,\", \"Electronic,\", \"Spiritual,\", \"Mantras,\",\n",
    "      \"Lofi,\", \"Oriental,\", \"Jazz,\", \"Guitar,\", \"Peacful rhythms,\", \"Kora,\", \"Electric guitar,\", \"Meditation\")"
   ]
  },
  {
   "cell_type": "code",
   "execution_count": 1137,
   "metadata": {},
   "outputs": [],
   "source": [
    "# cat1 = input(\"First category:\")\n",
    "# cat2 = input(\"Second category:\")\n",
    "# cat3 = input(\"Third category:\")"
   ]
  },
  {
   "cell_type": "markdown",
   "metadata": {},
   "source": [
    "The function below generates 5 songs based on users prefered categories."
   ]
  },
  {
   "cell_type": "code",
   "execution_count": 1138,
   "metadata": {},
   "outputs": [],
   "source": [
    "def pref_cat_playlist(pref_cat, df):\n",
    "    \n",
    "    pref_cat1_df = pd.DataFrame(df.loc[df[cat1] == 1])\n",
    "    pref_cat2_df = pd.DataFrame(df.loc[df[cat2] == 1])\n",
    "    pref_cat3_df = pd.DataFrame(df.loc[df[cat3] == 1])\n",
    "\n",
    "    rec_df = pd.concat([pref_cat1_df, pref_cat2_df, pref_cat3_df], sort = False)\n",
    "    recs = list(rec_df['spotifyid'])\n",
    "    recs_5 = random.choices(recs, k=5)\n",
    "    \n",
    "    print(recs_5)"
   ]
  },
  {
   "cell_type": "markdown",
   "metadata": {},
   "source": [
    "The recommendations for each participant are stored in separate lists:"
   ]
  },
  {
   "cell_type": "code",
   "execution_count": 1139,
   "metadata": {},
   "outputs": [],
   "source": [
    "par1_data2 = generate_rec(df1).tolist()\n",
    "par2_data2 = generate_rec(df2).tolist()\n",
    "par3_data2 = generate_rec(df3).tolist()\n",
    "par4_data2 = ['7foAfcTceqBYAKaWGqqTMQ', '1mvEBCRmAnClQuYEWiqHe3', '65XBlAjuSdQzdwcLGja58A', '2BFyX89h7ht7arq8530qdO', '29l6T1pcuFPAH08hZKnNne']\n",
    "par5_data2 = ['4yf9GHCVO6VyY6q9yl2LvI', '4YRmrJ0bFhYfDQQInW52Qb', '0GZRJWAb08RLUPHyP6uWcY', '0AAmMbWCDAzq6EmI5NUGNC', '7w9ua7jekY9JR0SnjEekK0']\n",
    "\n",
    "\n",
    "# all recommendation lists combined together\n",
    "all_data2 = [par1_data2, par2_data2, par3_data2,par4_data2,par5_data2]"
   ]
  },
  {
   "cell_type": "markdown",
   "metadata": {},
   "source": [
    "### Testing the recommendations + collecting ratings"
   ]
  },
  {
   "cell_type": "markdown",
   "metadata": {},
   "source": [
    "The recommended songs are then played to the participant and their GSR data is collected using Arduino GSR sensor and the code in the \"arduino.py\" file. The data is stored in json files in corresponding folders.\n",
    "\n",
    "The participants were also asked to rate the song from 0 to 5 in terms of how much more relaxed it made them feel. All new data was then added to the dataframe using the following functions:"
   ]
  },
  {
   "cell_type": "code",
   "execution_count": 1140,
   "metadata": {},
   "outputs": [],
   "source": [
    "def show_data(df):\n",
    "    newdf = df[df['score'].notna()]  \n",
    "    newdf = newdf[['Track Name', 'score', 'rating']]\n",
    "    print(newdf)"
   ]
  },
  {
   "cell_type": "code",
   "execution_count": 1141,
   "metadata": {},
   "outputs": [],
   "source": [
    "par1_ratings = [4, 4, 3, 5, 4]\n",
    "par2_ratings = [2, 3, 5, 5, 4]\n",
    "par3_ratings = [3, 5, 4, 4, 4]\n",
    "par4_ratings = [4, 2, 4, 4, 2]\n",
    "par5_ratings = [4, 4, 4, 5, 4]"
   ]
  },
  {
   "cell_type": "markdown",
   "metadata": {},
   "source": [
    "Importing the data collected from the first iteration. Functions are adapted from the previous stage."
   ]
  },
  {
   "cell_type": "code",
   "execution_count": 1142,
   "metadata": {},
   "outputs": [],
   "source": [
    "# this function loads data from json files into the dataframes \n",
    "def add_gsr2(participant_n, df, spotifyid):\n",
    "    with open('Participant' + str(participant_n) + \"/First_iteration/\"+ spotifyid + '.json') as f:\n",
    "        data = json.load(f)\n",
    "        data = ast.literal_eval(data)\n",
    "        df.loc[df.spotifyid == spotifyid, 'GSR0'] = float(data[0])\n",
    "        df.loc[df.spotifyid == spotifyid, 'GSR1'] = data[-1]\n",
    "        df.loc[df.spotifyid == spotifyid, 'score'] = df[\"GSR0\"] - df[\"GSR1\"]\n",
    "        df.loc[df.spotifyid == spotifyid, 'iteration'] = 1\n",
    "        return df"
   ]
  },
  {
   "cell_type": "code",
   "execution_count": 1143,
   "metadata": {},
   "outputs": [],
   "source": [
    "# adding the ratings to the dataframes \n",
    "def add_rating(iteration):\n",
    "    if iteration == 1:\n",
    "        for song, rating in zip(par1_data2, par1_ratings):\n",
    "            df1.loc[df1.spotifyid == song, 'rating'] = rating\n",
    "        for song, rating in zip(par2_data2, par2_ratings):\n",
    "            df2.loc[df1.spotifyid == song, 'rating'] = rating\n",
    "        for song, rating in zip(par3_data2, par3_ratings):\n",
    "            df3.loc[df3.spotifyid == song, 'rating'] = rating\n",
    "        for song, rating in zip(par4_data2, par4_ratings):\n",
    "            df4.loc[df4.spotifyid == song, 'rating'] = rating\n",
    "        for song, rating in zip(par5_data2, par5_ratings):\n",
    "            df5.loc[df4.spotifyid == song, 'rating'] = rating\n",
    "        print(\"First iteration ratings have been added\")\n",
    "    elif iteration == 2:\n",
    "        for song, rating in zip(par1_data3, par1_ratings2):\n",
    "            df1.loc[df1.spotifyid == song, 'rating'] = rating\n",
    "        for song, rating in zip(par2_data3, par2_ratings2):\n",
    "            df2.loc[df1.spotifyid == song, 'rating'] = rating\n",
    "        for song, rating in zip(par3_data3, par3_ratings2):\n",
    "            df3.loc[df3.spotifyid == song, 'rating'] = rating\n",
    "        for song, rating in zip(par4_data3, par4_ratings2):\n",
    "            df4.loc[df4.spotifyid == song, 'rating'] = rating\n",
    "        for song, rating in zip(par5_data3, par5_ratings2):\n",
    "            df5.loc[df4.spotifyid == song, 'rating'] = rating\n",
    "        print(\"Second iteration ratings have been added\")\n"
   ]
  },
  {
   "cell_type": "code",
   "execution_count": 1144,
   "metadata": {},
   "outputs": [],
   "source": [
    "def add_data2():\n",
    "    for data in all_data2:\n",
    "        if data == par1_data2:\n",
    "            for item in range(len(data)):\n",
    "                spotifyid = data[item]\n",
    "                add_gsr2(1, df1, spotifyid)\n",
    "                count1 = len(data)\n",
    "        elif data == par2_data2:\n",
    "            for item in range(len(data)):\n",
    "                spotifyid = data[item]\n",
    "                add_gsr2(2, df2, spotifyid)\n",
    "                count2 = len(data)\n",
    "        elif data == par3_data2:\n",
    "            for item in range(len(data)):\n",
    "                spotifyid = data[item]\n",
    "                add_gsr2(3, df3, spotifyid)\n",
    "                count3 = len(data)\n",
    "        elif data == par4_data2:\n",
    "            for item in range(len(data)):\n",
    "                spotifyid = data[item]\n",
    "                add_gsr2(4, df4, spotifyid)\n",
    "                count4 = len(data)\n",
    "        elif data == par5_data2:\n",
    "            for item in range(len(data)):\n",
    "                spotifyid = data[item]\n",
    "                add_gsr2(5, df5, spotifyid)\n",
    "                count5 = len(data)\n",
    "    total = count1 + count2 + count3 + count4 + count5\n",
    "    print(\"Total songs added: \" + str(total))"
   ]
  },
  {
   "cell_type": "markdown",
   "metadata": {},
   "source": [
    "Executing functions"
   ]
  },
  {
   "cell_type": "code",
   "execution_count": 1145,
   "metadata": {},
   "outputs": [
    {
     "name": "stdout",
     "output_type": "stream",
     "text": [
      "Total songs added: 25\n"
     ]
    }
   ],
   "source": [
    "add_data2()"
   ]
  },
  {
   "cell_type": "code",
   "execution_count": 1146,
   "metadata": {
    "scrolled": true
   },
   "outputs": [
    {
     "name": "stdout",
     "output_type": "stream",
     "text": [
      "First iteration ratings have been added\n"
     ]
    }
   ],
   "source": [
    "add_rating(1)"
   ]
  },
  {
   "cell_type": "markdown",
   "metadata": {},
   "source": [
    "Selecting and filtering dataframes to calculate the mean and mode of score and rating."
   ]
  },
  {
   "cell_type": "code",
   "execution_count": 1147,
   "metadata": {
    "scrolled": true
   },
   "outputs": [
    {
     "name": "stdout",
     "output_type": "stream",
     "text": [
      "Mean score: 9.84\n",
      "Mean rating: 3.84\n",
      "Mode rating: 4\n"
     ]
    }
   ],
   "source": [
    "import statistics\n",
    "\n",
    "all_ratings1 = (par1_ratings + par2_ratings + par3_ratings + par4_ratings + par5_ratings)\n",
    "\n",
    "# selecting the right data\n",
    "iteration_df1 = pd.concat( [df1['iteration'],df2['iteration'],df3['iteration'],df4['iteration'],df5['iteration']], sort = False)\n",
    "score_df1 = pd.concat( [df1['score'],df2['score'],df3['score'],df4['score'],df5['score']], sort = False)\n",
    "rating_df1 = pd.concat([df1['rating'],df2['rating'],df3['rating'],df4['rating'],df5['rating']], sort = False)\n",
    "\n",
    "rating_score_df1 = pd.concat([score_df1, rating_df1, iteration_df1], axis = 1)\n",
    "\n",
    "rating_score_df1 = rating_score_df1[rating_score_df1.iteration == 1]\n",
    "\n",
    "\n",
    "all_scores1 = rating_score_df1['score'].sum()\n",
    "mean_score1 = all_scores1 / len(rating_score_df1['score'])\n",
    "\n",
    "\n",
    "mean = statistics.mean(all_ratings1)\n",
    "mode = statistics.mode(all_ratings1)\n",
    "\n",
    "print(\"Mean score: \" + str(mean_score1))\n",
    "print(\"Mean rating: \" + str(mean))\n",
    "print(\"Mode rating: \" + str(mode))\n"
   ]
  },
  {
   "cell_type": "markdown",
   "metadata": {},
   "source": [
    "# ITERATION 2"
   ]
  },
  {
   "cell_type": "markdown",
   "metadata": {},
   "source": [
    "In the second iteration, the recommendations will be generated based on two variables - the rating and the GSR score. \n",
    "\n",
    "A new_score will be calculated by normalizing and adding up the two metrics. The new score will range from 0 to 100 and will hold an equal weight of rating and GSR score."
   ]
  },
  {
   "cell_type": "code",
   "execution_count": 1148,
   "metadata": {},
   "outputs": [],
   "source": [
    "def assign_new_score(df):\n",
    "    max_value = df['score'].max()\n",
    "    min_value = df['score'].min()\n",
    "    df['score_normalized'] = (df['score'] - min_value) / (max_value - min_value) * 50\n",
    "    df['rating_scaled'] = df['rating']  * 10\n",
    "    df['new_score'] = df['score_normalized'] + df['rating_scaled']\n"
   ]
  },
  {
   "cell_type": "code",
   "execution_count": 1149,
   "metadata": {
    "scrolled": true
   },
   "outputs": [],
   "source": [
    "assign_new_score(df1)\n",
    "assign_new_score(df2)\n",
    "assign_new_score(df3)\n",
    "assign_new_score(df4)\n",
    "assign_new_score(df5)"
   ]
  },
  {
   "cell_type": "markdown",
   "metadata": {},
   "source": [
    "Adapting the recommendation function for the second iteration"
   ]
  },
  {
   "cell_type": "code",
   "execution_count": 1150,
   "metadata": {},
   "outputs": [],
   "source": [
    "def generate_rec2(df):\n",
    "    best_score = df[\"new_score\"].max()  ## picking the highest score\n",
    "    best_song = df.loc[df.new_score == best_score, 'spotifyid'].values[0] ## the song id with the best GSR score\n",
    "    \n",
    "    genre_df = genre_preproces(df)\n",
    "    floats_scaled = floats_preprocess(df)\n",
    "\n",
    "    final = pd.concat([genre_df, floats_scaled, df[category_cols]], axis = 1)\n",
    "    final['spotifyid']=df['spotifyid'].values\n",
    "    \n",
    "    scaler = MinMaxScaler()    \n",
    "    normalized_df = scaler.fit_transform(final[float_cols])\n",
    "\n",
    "    indices = pd.Series(final.index, index=final['spotifyid']).drop_duplicates()\n",
    "    cosine = cosine_similarity(normalized_df)\n",
    "  \n",
    "    def generate_recommendation(spotifyid, model_type=cosine):\n",
    "        index = indices[spotifyid]\n",
    "        score = list(enumerate(model_type[indices[spotifyid]]))\n",
    "        similarity_score = sorted(score, key=lambda x: x[1], reverse=True)\n",
    "        similarity_score = similarity_score[1:6]\n",
    "        top_songs_index = [i[0] for i in similarity_score]\n",
    "        top_songs = df['spotifyid'].iloc[top_songs_index]\n",
    "        return top_songs\n",
    "    \n",
    "    \n",
    "    recs = generate_recommendation(best_song, cosine).values\n",
    "    return recs\n",
    "    "
   ]
  },
  {
   "cell_type": "markdown",
   "metadata": {},
   "source": [
    "Generating recommendations"
   ]
  },
  {
   "cell_type": "code",
   "execution_count": 1151,
   "metadata": {},
   "outputs": [],
   "source": [
    "par1_data3 = generate_rec2(df1).tolist()\n",
    "par2_data3 = generate_rec2(df2).tolist()\n",
    "par3_data3 = generate_rec2(df3).tolist()\n",
    "par4_data3 = generate_rec2(df4).tolist()\n",
    "par5_data3 = generate_rec2(df5).tolist()"
   ]
  },
  {
   "cell_type": "code",
   "execution_count": 1152,
   "metadata": {},
   "outputs": [],
   "source": [
    "# this function loads data from json files into the dataframes \n",
    "def add_gsr3(participant_n, df, spotifyid):\n",
    "    with open('Participant' + str(participant_n) + \"/Second_iteration/\"+ spotifyid + '.json') as f:\n",
    "        data = json.load(f)\n",
    "        data = ast.literal_eval(data)\n",
    "        df.loc[df.spotifyid == spotifyid, 'GSR0'] = float(data[0])\n",
    "        df.loc[df.spotifyid == spotifyid, 'GSR1'] = data[-1]\n",
    "        df.loc[df.spotifyid == spotifyid, 'score'] = df[\"GSR0\"] - df[\"GSR1\"]\n",
    "        df.loc[df.spotifyid == spotifyid, 'iteration'] = 2\n",
    "        return df"
   ]
  },
  {
   "cell_type": "markdown",
   "metadata": {},
   "source": [
    "Adapting the function for adding the collected data to the dataframe during second iteration"
   ]
  },
  {
   "cell_type": "code",
   "execution_count": 1153,
   "metadata": {},
   "outputs": [],
   "source": [
    "all_data3 = [par1_data3,par2_data3,par3_data3,par4_data3,par5_data3]\n",
    "\n",
    "\n",
    "def add_data3():\n",
    "    for data in all_data3:\n",
    "        if data == par1_data3:\n",
    "            for item in range(len(data)):\n",
    "                spotifyid = data[item]\n",
    "                add_gsr3(1, df1, spotifyid)\n",
    "                count1 = len(data)\n",
    "        elif data == par2_data3:\n",
    "            for item in range(len(data)):\n",
    "                spotifyid = data[item]\n",
    "                add_gsr3(2, df2, spotifyid)\n",
    "                count2 = len(data)\n",
    "        elif data == par3_data3:\n",
    "            for item in range(len(data)):\n",
    "                spotifyid = data[item]\n",
    "                add_gsr3(3, df3, spotifyid)\n",
    "                count3 = len(data)\n",
    "        elif data == par4_data3:\n",
    "            for item in range(len(data)):\n",
    "                spotifyid = data[item]\n",
    "                add_gsr3(4, df4, spotifyid)\n",
    "                count4 = len(data)\n",
    "        elif data == par5_data3:\n",
    "            for item in range(len(data)):\n",
    "                spotifyid = data[item]\n",
    "                add_gsr3(5, df5, spotifyid)\n",
    "                count5 = len(data)\n",
    "    total = count1 + count2 + count3 + count4 + count5\n",
    "    print(\"Total songs added: \" + str(total))"
   ]
  },
  {
   "cell_type": "markdown",
   "metadata": {},
   "source": [
    "Executing function"
   ]
  },
  {
   "cell_type": "code",
   "execution_count": 1154,
   "metadata": {},
   "outputs": [
    {
     "name": "stdout",
     "output_type": "stream",
     "text": [
      "Total songs added: 25\n"
     ]
    }
   ],
   "source": [
    "add_data3()"
   ]
  },
  {
   "cell_type": "code",
   "execution_count": 1155,
   "metadata": {},
   "outputs": [],
   "source": [
    "## participant's ratings of the recommended songs in the second iteration\n",
    "par1_ratings2 = [4, 4, 3, 5, 3]\n",
    "par2_ratings2 = [2, 4, 5, 5, 4]\n",
    "par3_ratings2 = [3, 5, 4, 4, 4]\n",
    "par4_ratings2 = [4, 2, 4, 4, 4]\n",
    "par5_ratings2 = [4, 4, 4, 5, 4]"
   ]
  },
  {
   "cell_type": "code",
   "execution_count": 1156,
   "metadata": {
    "scrolled": false
   },
   "outputs": [
    {
     "name": "stdout",
     "output_type": "stream",
     "text": [
      "Second iteration ratings have been added\n"
     ]
    }
   ],
   "source": [
    "add_rating(2)"
   ]
  },
  {
   "cell_type": "markdown",
   "metadata": {},
   "source": [
    "Calculating mean and mode of rating and score."
   ]
  },
  {
   "cell_type": "code",
   "execution_count": 1157,
   "metadata": {},
   "outputs": [],
   "source": [
    "\n",
    "iteration_df = pd.concat( [df1['iteration'],df2['iteration'],df3['iteration'],df4['iteration'],df5['iteration']], sort = False)\n",
    "score_df = pd.concat( [df1['score'],df2['score'],df3['score'],df4['score'],df5['score']], sort = False)\n",
    "rating_df = pd.concat( [df1['rating'],df2['rating'],df3['rating'],df4['rating'],df5['rating']], sort = False)\n",
    "\n",
    "rating_score_all = pd.concat([score_df, rating_df, iteration_df], axis = 1)\n",
    "rating_score_df = rating_score_all[rating_score_all.iteration == 2]\n",
    "\n",
    "all_ratings2 = (par1_ratings2 + par2_ratings2 + par3_ratings2 + par4_ratings2 + par5_ratings2)\n",
    "all_scores2 = rating_score_df['score'].sum()\n",
    "\n",
    "mean_score = all_scores2 / len(rating_score_df['score'])\n",
    "\n",
    "mean2 = statistics.mean(all_ratings2)\n",
    "mode2 = statistics.mode(all_ratings2)\n"
   ]
  },
  {
   "cell_type": "code",
   "execution_count": null,
   "metadata": {
    "scrolled": false
   },
   "outputs": [],
   "source": []
  },
  {
   "cell_type": "code",
   "execution_count": 1158,
   "metadata": {
    "scrolled": true
   },
   "outputs": [
    {
     "name": "stdout",
     "output_type": "stream",
     "text": [
      "Iteration 1:\n",
      "Mean score: 9.84\n",
      "Mean rating: 3.84\n",
      "Mode rating: 4\n"
     ]
    }
   ],
   "source": [
    "print(\"Iteration 1:\")\n",
    "print(\"Mean score: \" + str(mean_score1))\n",
    "print(\"Mean rating: \" + str(mean))\n",
    "print(\"Mode rating: \" + str(mode))\n"
   ]
  },
  {
   "cell_type": "code",
   "execution_count": 1159,
   "metadata": {},
   "outputs": [
    {
     "name": "stdout",
     "output_type": "stream",
     "text": [
      "Iteration 2:\n",
      "Mean score: 12.04\n",
      "Mean rating: 3.92\n",
      "Mode rating: 4\n"
     ]
    }
   ],
   "source": [
    "print(\"Iteration 2:\")\n",
    "print(\"Mean score: \" + str(mean_score))\n",
    "print(\"Mean rating: \" + str(mean2))\n",
    "print(\"Mode rating: \" + str(mode2))"
   ]
  },
  {
   "cell_type": "markdown",
   "metadata": {},
   "source": [
    "Both mean rating and mean score are slightly better in the second iteration."
   ]
  },
  {
   "cell_type": "markdown",
   "metadata": {},
   "source": [
    "The scatterplot below shows how the GSR score compares with the rating given for the same song."
   ]
  },
  {
   "cell_type": "code",
   "execution_count": 1160,
   "metadata": {
    "scrolled": true
   },
   "outputs": [
    {
     "data": {
      "image/png": "[encoded data removed]",
      "text/plain": [
       "<Figure size 432x288 with 1 Axes>"
      ]
     },
     "metadata": {
      "needs_background": "light"
     },
     "output_type": "display_data"
    }
   ],
   "source": [
    "import matplotlib.pyplot as plt\n",
    "\n",
    "# a scatter plot comparing score and rating\n",
    "rating_score_all.plot(kind='scatter',x='score',y='rating',color='red')\n",
    "plt.show()"
   ]
  },
  {
   "cell_type": "code",
   "execution_count": null,
   "metadata": {},
   "outputs": [],
   "source": []
  }
 ],
 "metadata": {
  "kernelspec": {
   "display_name": "Python 3 (ipykernel)",
   "language": "python",
   "name": "python3"
  },
  "language_info": {
   "codemirror_mode": {
    "name": "ipython",
    "version": 3
   },
   "file_extension": ".py",
   "mimetype": "text/x-python",
   "name": "python",
   "nbconvert_exporter": "python",
   "pygments_lexer": "ipython3",
   "version": "3.8.13"
  }
 },
 "nbformat": 4,
 "nbformat_minor": 4
}
